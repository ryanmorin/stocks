{
 "cells": [
  {
   "cell_type": "code",
   "execution_count": 7,
   "id": "74c8912d",
   "metadata": {},
   "outputs": [],
   "source": [
    "import config # this is the api file\n",
    "import pandas as pd\n",
    "import numpy as np\n",
    "import finnhub\n",
    "import time\n",
    "import datetime"
   ]
  },
  {
   "cell_type": "code",
   "execution_count": 14,
   "id": "652a1b1d",
   "metadata": {},
   "outputs": [
    {
     "data": {
      "text/plain": [
       "1648796400"
      ]
     },
     "execution_count": 14,
     "metadata": {},
     "output_type": "execute_result"
    }
   ],
   "source": [
    "#start and end date for the data\n",
    "dt_start = \"01/04/2022\"\n",
    "dt_end = \"11/04/2022\"\n",
    "\n",
    "#convert the date data into unix\n",
    "utc_start = int(datetime.datetime.strptime(dt_start, \"%d/%m/%Y\").timestamp())\n",
    "utc_end = int(datetime.datetime.strptime(dt_end, \"%d/%m/%Y\").timestamp())"
   ]
  },
  {
   "cell_type": "code",
   "execution_count": 16,
   "id": "32b35f0f",
   "metadata": {},
   "outputs": [
    {
     "name": "stdout",
     "output_type": "stream",
     "text": [
      "{'c': [174.31, 178.44, 175.06, 171.83, 172.14, 170.09, 165.75], 'h': [174.88, 178.49, 178.3, 173.63, 173.36, 171.78, 169.03], 'l': [171.94, 174.44, 174.415, 170.13, 169.85, 169.2, 165.5], 'o': [174.03, 174.57, 177.5, 172.36, 171.16, 171.78, 168.71], 's': 'ok', 't': [1648771200, 1649030400, 1649116800, 1649203200, 1649289600, 1649376000, 1649635200], 'v': [78751328, 76545983, 73401786, 89058782, 77594650, 76575508, 72246706]}\n"
     ]
    }
   ],
   "source": [
    "finnhub_client = finnhub.Client(api_key=config.finnhub_key)\n",
    "\n",
    "print(finnhub_client.stock_candles('AAPL', 'D', utc_start, utc_end))"
   ]
  }
 ],
 "metadata": {
  "kernelspec": {
   "display_name": "Python 3 (ipykernel)",
   "language": "python",
   "name": "python3"
  },
  "language_info": {
   "codemirror_mode": {
    "name": "ipython",
    "version": 3
   },
   "file_extension": ".py",
   "mimetype": "text/x-python",
   "name": "python",
   "nbconvert_exporter": "python",
   "pygments_lexer": "ipython3",
   "version": "3.7.11"
  }
 },
 "nbformat": 4,
 "nbformat_minor": 5
}
