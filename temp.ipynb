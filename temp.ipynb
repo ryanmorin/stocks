{
 "cells": [
  {
   "cell_type": "code",
   "execution_count": 1,
   "id": "a61aedda",
   "metadata": {},
   "outputs": [],
   "source": [
    "import config # this is the api file\n",
    "import pandas as pd\n",
    "import numpy as np\n",
    "import finnhub\n",
    "import time\n",
    "import datetime"
   ]
  },
  {
   "cell_type": "code",
   "execution_count": 2,
   "id": "2af26207",
   "metadata": {},
   "outputs": [],
   "source": [
    "#start and end date for the data\n",
    "dt_start = \"01/04/2021\"\n",
    "dt_end = \"14/04/2022\"\n",
    "\n",
    "#convert the date data into unix timestamp\n",
    "utc_start = int(datetime.datetime.strptime(dt_start, \"%d/%m/%Y\").timestamp())\n",
    "utc_end = int(datetime.datetime.strptime(dt_end, \"%d/%m/%Y\").timestamp())"
   ]
  },
  {
   "cell_type": "code",
   "execution_count": 3,
   "id": "6eb1fda8",
   "metadata": {},
   "outputs": [],
   "source": [
    "# list of stocks\n",
    "stocks = ['AAPL','MSFT','OKTA', 'COST', 'KO', 'ABBV']"
   ]
  },
  {
   "cell_type": "code",
   "execution_count": 4,
   "id": "0e620198",
   "metadata": {},
   "outputs": [],
   "source": [
    "stk_df = pd.DataFrame(columns=['c','h','l','o','s','t','v','ticker'])"
   ]
  },
  {
   "cell_type": "code",
   "execution_count": 5,
   "id": "3f9c592b",
   "metadata": {},
   "outputs": [],
   "source": [
    "finnhub_client = finnhub.Client(api_key=config.finnhub_key)\n",
    "\n",
    "def price_volume_data(stock):\n",
    "    dict = (finnhub_client.stock_candles(stock, 'D', utc_start, utc_end))\n",
    "    df = pd.DataFrame.from_dict(dict,orient='index').transpose()\n",
    "    df['ticker'] = stock\n",
    "    df['t'] = pd.to_datetime(df['t'], unit='s')\n",
    "    return df"
   ]
  },
  {
   "cell_type": "code",
   "execution_count": 6,
   "id": "2e795115",
   "metadata": {},
   "outputs": [
    {
     "name": "stdout",
     "output_type": "stream",
     "text": [
      "Beginning Data Retrieval     \n",
      "-----------------------------\n"
     ]
    }
   ],
   "source": [
    "# Print the beginning of the logging.\n",
    "print(\"Beginning Data Retrieval     \")\n",
    "print(\"-----------------------------\")\n",
    "\n",
    "record_count = 1\n",
    "set_count = 1"
   ]
  },
  {
   "cell_type": "code",
   "execution_count": 7,
   "id": "f2409d9a",
   "metadata": {},
   "outputs": [
    {
     "name": "stdout",
     "output_type": "stream",
     "text": [
      "Processing Record 1 of Set 1 | AAPL\n",
      "Processing Record 2 of Set 1 | MSFT\n",
      "Processing Record 3 of Set 1 | OKTA\n",
      "Processing Record 4 of Set 1 | COST\n",
      "Processing Record 5 of Set 1 | KO\n",
      "Processing Record 6 of Set 1 | ABBV\n",
      "-----------------------------\n",
      "Data Retrieval Complete      \n",
      "-----------------------------\n"
     ]
    }
   ],
   "source": [
    "for i, stock in enumerate(stocks):\n",
    "    if(i % 50 == 0 and i >= 50):\n",
    "        set_count += 1\n",
    "        record_count = 1\n",
    "        time.sleep(61) # the delay is required for finnhub's terms of service - 60 calls per minute - I've left it a 50\n",
    "    \n",
    "    # adding stock data to the dataframe\n",
    "    try:\n",
    "        stk_df = stk_df.append(price_volume_data(stock))\n",
    "    \n",
    "    # If an error is experienced, skip the city.\n",
    "    except:\n",
    "        print(\"Stock not found. Skipping...\")\n",
    "        pass\n",
    "    \n",
    "    # telling you what record is being processed\n",
    "    print(f\"Processing Record {record_count} of Set {set_count} | {stock}\")\n",
    "    \n",
    "    # adding to the record count for the next iteration\n",
    "    record_count += 1\n",
    "    \n",
    "# Indicate that Data Loading is complete.\n",
    "print(\"-----------------------------\")\n",
    "print(\"Data Retrieval Complete      \")\n",
    "print(\"-----------------------------\")"
   ]
  },
  {
   "cell_type": "code",
   "execution_count": 8,
   "id": "59747d62",
   "metadata": {},
   "outputs": [],
   "source": [
    "stk_df = stk_df.drop(['s'], axis=1)"
   ]
  },
  {
   "cell_type": "code",
   "execution_count": 9,
   "id": "293e27e5",
   "metadata": {},
   "outputs": [],
   "source": [
    "cols = {'c':'close',\n",
    "       'h':'high',\n",
    "       'l':'low',\n",
    "       'o':'open',\n",
    "       't':'date',\n",
    "       'v':'volume'}\n",
    "\n",
    "stk_df = stk_df.rename(columns=cols)"
   ]
  },
  {
   "cell_type": "code",
   "execution_count": 10,
   "id": "8d5d2edb",
   "metadata": {},
   "outputs": [],
   "source": [
    "#number of stocks in the portfolio\n",
    "\n",
    "num_assets = len(stocks)\n",
    "num_trading_days = (pd.to_datetime(dt_end)-pd.to_datetime(dt_start)).days\n",
    "num_random_portfolios = 25000"
   ]
  },
  {
   "cell_type": "code",
   "execution_count": 11,
   "id": "19f8def5",
   "metadata": {},
   "outputs": [],
   "source": [
    "# format the dataframe tickers at top and date as index\n",
    "\n",
    "stk_clsing_price_df = stk_df[['date','close','ticker']]\n",
    "stk_clsing_price_df = stk_clsing_price_df.pivot(index='date',columns='ticker',values='close')"
   ]
  },
  {
   "cell_type": "code",
   "execution_count": 12,
   "id": "61554ae9",
   "metadata": {},
   "outputs": [],
   "source": [
    "# daily security return\n",
    "\n",
    "daily_sec_return = stk_clsing_price_df.pct_change()"
   ]
  },
  {
   "cell_type": "code",
   "execution_count": 13,
   "id": "e31e8e53",
   "metadata": {},
   "outputs": [
    {
     "data": {
      "text/plain": [
       "ticker\n",
       "AAPL    0.579795\n",
       "ABBV    0.749081\n",
       "COST    0.941302\n",
       "KO      0.399527\n",
       "MSFT    0.308544\n",
       "OKTA   -0.582162\n",
       "dtype: float64"
      ]
     },
     "execution_count": 13,
     "metadata": {},
     "output_type": "execute_result"
    }
   ],
   "source": [
    "# annualize the daily return\n",
    "\n",
    "annual_sec_return = daily_sec_return.mean() * num_trading_days\n",
    "annual_sec_return"
   ]
  },
  {
   "cell_type": "code",
   "execution_count": 14,
   "id": "ab1b8624",
   "metadata": {},
   "outputs": [
    {
     "data": {
      "text/html": [
       "<div>\n",
       "<style scoped>\n",
       "    .dataframe tbody tr th:only-of-type {\n",
       "        vertical-align: middle;\n",
       "    }\n",
       "\n",
       "    .dataframe tbody tr th {\n",
       "        vertical-align: top;\n",
       "    }\n",
       "\n",
       "    .dataframe thead th {\n",
       "        text-align: right;\n",
       "    }\n",
       "</style>\n",
       "<table border=\"1\" class=\"dataframe\">\n",
       "  <thead>\n",
       "    <tr style=\"text-align: right;\">\n",
       "      <th>ticker</th>\n",
       "      <th>AAPL</th>\n",
       "      <th>ABBV</th>\n",
       "      <th>COST</th>\n",
       "      <th>KO</th>\n",
       "      <th>MSFT</th>\n",
       "      <th>OKTA</th>\n",
       "    </tr>\n",
       "    <tr>\n",
       "      <th>ticker</th>\n",
       "      <th></th>\n",
       "      <th></th>\n",
       "      <th></th>\n",
       "      <th></th>\n",
       "      <th></th>\n",
       "      <th></th>\n",
       "    </tr>\n",
       "  </thead>\n",
       "  <tbody>\n",
       "    <tr>\n",
       "      <th>AAPL</th>\n",
       "      <td>0.110777</td>\n",
       "      <td>0.012150</td>\n",
       "      <td>0.044234</td>\n",
       "      <td>0.016017</td>\n",
       "      <td>0.078954</td>\n",
       "      <td>0.095726</td>\n",
       "    </tr>\n",
       "    <tr>\n",
       "      <th>ABBV</th>\n",
       "      <td>0.012150</td>\n",
       "      <td>0.067876</td>\n",
       "      <td>0.013488</td>\n",
       "      <td>0.019934</td>\n",
       "      <td>0.014762</td>\n",
       "      <td>-0.010303</td>\n",
       "    </tr>\n",
       "    <tr>\n",
       "      <th>COST</th>\n",
       "      <td>0.044234</td>\n",
       "      <td>0.013488</td>\n",
       "      <td>0.075284</td>\n",
       "      <td>0.019684</td>\n",
       "      <td>0.049600</td>\n",
       "      <td>0.045475</td>\n",
       "    </tr>\n",
       "    <tr>\n",
       "      <th>KO</th>\n",
       "      <td>0.016017</td>\n",
       "      <td>0.019934</td>\n",
       "      <td>0.019684</td>\n",
       "      <td>0.040286</td>\n",
       "      <td>0.016341</td>\n",
       "      <td>-0.011965</td>\n",
       "    </tr>\n",
       "    <tr>\n",
       "      <th>MSFT</th>\n",
       "      <td>0.078954</td>\n",
       "      <td>0.014762</td>\n",
       "      <td>0.049600</td>\n",
       "      <td>0.016341</td>\n",
       "      <td>0.106829</td>\n",
       "      <td>0.122266</td>\n",
       "    </tr>\n",
       "    <tr>\n",
       "      <th>OKTA</th>\n",
       "      <td>0.095726</td>\n",
       "      <td>-0.010303</td>\n",
       "      <td>0.045475</td>\n",
       "      <td>-0.011965</td>\n",
       "      <td>0.122266</td>\n",
       "      <td>0.502034</td>\n",
       "    </tr>\n",
       "  </tbody>\n",
       "</table>\n",
       "</div>"
      ],
      "text/plain": [
       "ticker      AAPL      ABBV      COST        KO      MSFT      OKTA\n",
       "ticker                                                            \n",
       "AAPL    0.110777  0.012150  0.044234  0.016017  0.078954  0.095726\n",
       "ABBV    0.012150  0.067876  0.013488  0.019934  0.014762 -0.010303\n",
       "COST    0.044234  0.013488  0.075284  0.019684  0.049600  0.045475\n",
       "KO      0.016017  0.019934  0.019684  0.040286  0.016341 -0.011965\n",
       "MSFT    0.078954  0.014762  0.049600  0.016341  0.106829  0.122266\n",
       "OKTA    0.095726 -0.010303  0.045475 -0.011965  0.122266  0.502034"
      ]
     },
     "execution_count": 14,
     "metadata": {},
     "output_type": "execute_result"
    }
   ],
   "source": [
    "# Calculate the covariance between stocks in the portfolio based on the daily return and then annualize the covariance\n",
    "# by multiplying by the number of estimated trading days\n",
    "# covariance will measure the degree that stocks included in the portfolio move in tandem\n",
    "# negative covaried stocks move in opposite directions while positively covaried stocks move in the same direction\n",
    "\n",
    "daily_sec_covariance = daily_sec_return.cov()\n",
    "annual_sec_covariance = daily_sec_covariance * num_trading_days\n",
    "annual_sec_covariance"
   ]
  },
  {
   "cell_type": "code",
   "execution_count": 15,
   "id": "3704eba1",
   "metadata": {},
   "outputs": [
    {
     "data": {
      "text/plain": [
       "ticker\n",
       "AAPL    0.332832\n",
       "ABBV    0.260530\n",
       "COST    0.274379\n",
       "KO      0.200713\n",
       "MSFT    0.326847\n",
       "OKTA    0.708543\n",
       "dtype: float64"
      ]
     },
     "execution_count": 15,
     "metadata": {},
     "output_type": "execute_result"
    }
   ],
   "source": [
    "# Annualize the daily std deviation\n",
    "#\n",
    "annual_sec_std_deviation = (daily_sec_return.std()) * np.sqrt(num_trading_days)\n",
    "annual_sec_std_deviation"
   ]
  },
  {
   "cell_type": "code",
   "execution_count": 16,
   "id": "23aeffc8",
   "metadata": {},
   "outputs": [],
   "source": [
    "# Generate an array where the number of rows equal num_random_portfolios and where the total number of columns will tie to the number of stocks in the portfolio\n",
    "# the columns will total 1\n",
    "#\n",
    "X = np.random.dirichlet(np.ones(num_assets),size=num_random_portfolios)"
   ]
  },
  {
   "cell_type": "code",
   "execution_count": 17,
   "id": "e4244b2c",
   "metadata": {},
   "outputs": [
    {
     "data": {
      "text/plain": [
       "(25000, 6)"
      ]
     },
     "execution_count": 17,
     "metadata": {},
     "output_type": "execute_result"
    }
   ],
   "source": [
    "# Convert the array to a dataframe and assign the ticker symbol to the column name\n",
    "#\n",
    "rand_port_wts = pd.DataFrame(X, columns=stk_clsing_price_df.columns)\n",
    "rand_port_wts.shape"
   ]
  },
  {
   "cell_type": "code",
   "execution_count": 19,
   "id": "ceb361a3",
   "metadata": {},
   "outputs": [
    {
     "data": {
      "text/plain": [
       "(25000, 1)"
      ]
     },
     "execution_count": 19,
     "metadata": {},
     "output_type": "execute_result"
    }
   ],
   "source": [
    "# multiply the random portfolio weights by the annualized return\n",
    "#\n",
    "portfolio_return = rand_port_wts.dot(annual_sec_return)\n",
    "portfolio_return = pd.DataFrame(portfolio_return, columns=['portfolio_return'])\n",
    "portfolio_return.shape"
   ]
  },
  {
   "cell_type": "code",
   "execution_count": 20,
   "id": "1538adcd",
   "metadata": {},
   "outputs": [
    {
     "name": "stderr",
     "output_type": "stream",
     "text": [
      "C:\\Users\\ryanj\\anaconda3\\envs\\mlenv\\lib\\site-packages\\ipykernel_launcher.py:1: RuntimeWarning: invalid value encountered in sqrt\n",
      "  \"\"\"Entry point for launching an IPython kernel.\n"
     ]
    }
   ],
   "source": [
    "portfolio_std_deviation = pd.DataFrame(rand_port_wts.apply(lambda x: np.dot(x.T, np.sqrt(np.dot(annual_sec_covariance,x))),axis=1),columns=['portfolio_std_dev'])"
   ]
  },
  {
   "cell_type": "code",
   "execution_count": 21,
   "id": "cfc839f8",
   "metadata": {},
   "outputs": [
    {
     "data": {
      "text/html": [
       "<div>\n",
       "<style scoped>\n",
       "    .dataframe tbody tr th:only-of-type {\n",
       "        vertical-align: middle;\n",
       "    }\n",
       "\n",
       "    .dataframe tbody tr th {\n",
       "        vertical-align: top;\n",
       "    }\n",
       "\n",
       "    .dataframe thead th {\n",
       "        text-align: right;\n",
       "    }\n",
       "</style>\n",
       "<table border=\"1\" class=\"dataframe\">\n",
       "  <thead>\n",
       "    <tr style=\"text-align: right;\">\n",
       "      <th>ticker</th>\n",
       "      <th>AAPL</th>\n",
       "      <th>ABBV</th>\n",
       "      <th>COST</th>\n",
       "      <th>KO</th>\n",
       "      <th>MSFT</th>\n",
       "      <th>OKTA</th>\n",
       "      <th>std_dev</th>\n",
       "      <th>return</th>\n",
       "      <th>sharpe_ratio</th>\n",
       "    </tr>\n",
       "  </thead>\n",
       "  <tbody>\n",
       "    <tr>\n",
       "      <th>0</th>\n",
       "      <td>0.014582</td>\n",
       "      <td>0.216801</td>\n",
       "      <td>0.038556</td>\n",
       "      <td>0.528269</td>\n",
       "      <td>0.179727</td>\n",
       "      <td>0.022065</td>\n",
       "      <td>0.173903</td>\n",
       "      <td>0.460815</td>\n",
       "      <td>2.649831</td>\n",
       "    </tr>\n",
       "    <tr>\n",
       "      <th>1</th>\n",
       "      <td>0.049511</td>\n",
       "      <td>0.379899</td>\n",
       "      <td>0.136988</td>\n",
       "      <td>0.010993</td>\n",
       "      <td>0.058624</td>\n",
       "      <td>0.363984</td>\n",
       "      <td>0.276577</td>\n",
       "      <td>0.252811</td>\n",
       "      <td>0.914071</td>\n",
       "    </tr>\n",
       "    <tr>\n",
       "      <th>2</th>\n",
       "      <td>0.094253</td>\n",
       "      <td>0.347702</td>\n",
       "      <td>0.004704</td>\n",
       "      <td>0.288249</td>\n",
       "      <td>0.025100</td>\n",
       "      <td>0.239992</td>\n",
       "      <td>0.208321</td>\n",
       "      <td>0.302725</td>\n",
       "      <td>1.453171</td>\n",
       "    </tr>\n",
       "    <tr>\n",
       "      <th>3</th>\n",
       "      <td>0.488705</td>\n",
       "      <td>0.291088</td>\n",
       "      <td>0.025080</td>\n",
       "      <td>0.039399</td>\n",
       "      <td>0.002198</td>\n",
       "      <td>0.153529</td>\n",
       "      <td>0.242966</td>\n",
       "      <td>0.452045</td>\n",
       "      <td>1.860532</td>\n",
       "    </tr>\n",
       "    <tr>\n",
       "      <th>4</th>\n",
       "      <td>0.229059</td>\n",
       "      <td>0.049867</td>\n",
       "      <td>0.139495</td>\n",
       "      <td>0.235190</td>\n",
       "      <td>0.288717</td>\n",
       "      <td>0.057671</td>\n",
       "      <td>0.219559</td>\n",
       "      <td>0.450942</td>\n",
       "      <td>2.053851</td>\n",
       "    </tr>\n",
       "    <tr>\n",
       "      <th>...</th>\n",
       "      <td>...</td>\n",
       "      <td>...</td>\n",
       "      <td>...</td>\n",
       "      <td>...</td>\n",
       "      <td>...</td>\n",
       "      <td>...</td>\n",
       "      <td>...</td>\n",
       "      <td>...</td>\n",
       "      <td>...</td>\n",
       "    </tr>\n",
       "    <tr>\n",
       "      <th>24995</th>\n",
       "      <td>0.061848</td>\n",
       "      <td>0.474722</td>\n",
       "      <td>0.258038</td>\n",
       "      <td>0.070773</td>\n",
       "      <td>0.053865</td>\n",
       "      <td>0.080755</td>\n",
       "      <td>0.193581</td>\n",
       "      <td>0.632239</td>\n",
       "      <td>3.266012</td>\n",
       "    </tr>\n",
       "    <tr>\n",
       "      <th>24996</th>\n",
       "      <td>0.217776</td>\n",
       "      <td>0.230481</td>\n",
       "      <td>0.171053</td>\n",
       "      <td>0.006574</td>\n",
       "      <td>0.346736</td>\n",
       "      <td>0.027379</td>\n",
       "      <td>0.228333</td>\n",
       "      <td>0.553598</td>\n",
       "      <td>2.424523</td>\n",
       "    </tr>\n",
       "    <tr>\n",
       "      <th>24997</th>\n",
       "      <td>0.064548</td>\n",
       "      <td>0.117547</td>\n",
       "      <td>0.188237</td>\n",
       "      <td>0.238348</td>\n",
       "      <td>0.343429</td>\n",
       "      <td>0.047891</td>\n",
       "      <td>0.204799</td>\n",
       "      <td>0.475973</td>\n",
       "      <td>2.324095</td>\n",
       "    </tr>\n",
       "    <tr>\n",
       "      <th>24998</th>\n",
       "      <td>0.232488</td>\n",
       "      <td>0.032282</td>\n",
       "      <td>0.075759</td>\n",
       "      <td>0.105967</td>\n",
       "      <td>0.207351</td>\n",
       "      <td>0.346153</td>\n",
       "      <td>0.320451</td>\n",
       "      <td>0.135086</td>\n",
       "      <td>0.421548</td>\n",
       "    </tr>\n",
       "    <tr>\n",
       "      <th>24999</th>\n",
       "      <td>0.015630</td>\n",
       "      <td>0.359178</td>\n",
       "      <td>0.249680</td>\n",
       "      <td>0.091185</td>\n",
       "      <td>0.079292</td>\n",
       "      <td>0.205037</td>\n",
       "      <td>0.214571</td>\n",
       "      <td>0.454670</td>\n",
       "      <td>2.118972</td>\n",
       "    </tr>\n",
       "  </tbody>\n",
       "</table>\n",
       "<p>25000 rows × 9 columns</p>\n",
       "</div>"
      ],
      "text/plain": [
       "ticker      AAPL      ABBV      COST        KO      MSFT      OKTA   std_dev  \\\n",
       "0       0.014582  0.216801  0.038556  0.528269  0.179727  0.022065  0.173903   \n",
       "1       0.049511  0.379899  0.136988  0.010993  0.058624  0.363984  0.276577   \n",
       "2       0.094253  0.347702  0.004704  0.288249  0.025100  0.239992  0.208321   \n",
       "3       0.488705  0.291088  0.025080  0.039399  0.002198  0.153529  0.242966   \n",
       "4       0.229059  0.049867  0.139495  0.235190  0.288717  0.057671  0.219559   \n",
       "...          ...       ...       ...       ...       ...       ...       ...   \n",
       "24995   0.061848  0.474722  0.258038  0.070773  0.053865  0.080755  0.193581   \n",
       "24996   0.217776  0.230481  0.171053  0.006574  0.346736  0.027379  0.228333   \n",
       "24997   0.064548  0.117547  0.188237  0.238348  0.343429  0.047891  0.204799   \n",
       "24998   0.232488  0.032282  0.075759  0.105967  0.207351  0.346153  0.320451   \n",
       "24999   0.015630  0.359178  0.249680  0.091185  0.079292  0.205037  0.214571   \n",
       "\n",
       "ticker    return  sharpe_ratio  \n",
       "0       0.460815      2.649831  \n",
       "1       0.252811      0.914071  \n",
       "2       0.302725      1.453171  \n",
       "3       0.452045      1.860532  \n",
       "4       0.450942      2.053851  \n",
       "...          ...           ...  \n",
       "24995   0.632239      3.266012  \n",
       "24996   0.553598      2.424523  \n",
       "24997   0.475973      2.324095  \n",
       "24998   0.135086      0.421548  \n",
       "24999   0.454670      2.118972  \n",
       "\n",
       "[25000 rows x 9 columns]"
      ]
     },
     "execution_count": 21,
     "metadata": {},
     "output_type": "execute_result"
    }
   ],
   "source": [
    "portfolio_data = pd.DataFrame(rand_port_wts)\n",
    "portfolio_data['std_dev'] = portfolio_std_deviation.portfolio_std_dev\n",
    "portfolio_data['return'] = portfolio_return.portfolio_return\n",
    "portfolio_data['sharpe_ratio'] = portfolio_data['return'] / portfolio_data['std_dev']\n",
    "#portfolio_data\n",
    "\n",
    "#portfolio_data.loc[portfolio_data.sharpe_ratio.idxmax()]\n",
    "portfolio_data"
   ]
  }
 ],
 "metadata": {
  "kernelspec": {
   "display_name": "Python 3 (ipykernel)",
   "language": "python",
   "name": "python3"
  },
  "language_info": {
   "codemirror_mode": {
    "name": "ipython",
    "version": 3
   },
   "file_extension": ".py",
   "mimetype": "text/x-python",
   "name": "python",
   "nbconvert_exporter": "python",
   "pygments_lexer": "ipython3",
   "version": "3.7.11"
  }
 },
 "nbformat": 4,
 "nbformat_minor": 5
}
