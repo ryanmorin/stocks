{
 "cells": [
  {
   "cell_type": "code",
   "execution_count": 26,
   "id": "a61aedda",
   "metadata": {},
   "outputs": [],
   "source": [
    "import config # this is the api file\n",
    "import pandas as pd\n",
    "import numpy as np\n",
    "import finnhub\n",
    "import time\n",
    "import datetime\n",
    "from operator import itemgetter"
   ]
  },
  {
   "cell_type": "code",
   "execution_count": 23,
   "id": "2af26207",
   "metadata": {},
   "outputs": [],
   "source": [
    "#start and end date for the data\n",
    "dt_start = \"01/04/2022\"\n",
    "dt_end = \"11/04/2022\"\n",
    "\n",
    "#convert the date data into unix timestamp\n",
    "utc_start = int(datetime.datetime.strptime(dt_start, \"%d/%m/%Y\").timestamp())\n",
    "utc_end = int(datetime.datetime.strptime(dt_end, \"%d/%m/%Y\").timestamp())"
   ]
  },
  {
   "cell_type": "code",
   "execution_count": 24,
   "id": "6eb1fda8",
   "metadata": {},
   "outputs": [],
   "source": [
    "# list of stocks\n",
    "stocks = ['AAPL','MSFT','GOOG','AMZN']"
   ]
  },
  {
   "cell_type": "code",
   "execution_count": 33,
   "id": "3f9c592b",
   "metadata": {},
   "outputs": [],
   "source": [
    "finnhub_client = finnhub.Client(api_key=config.finnhub_key)\n",
    "\n",
    "def temp(stocks):\n",
    "    for stock in stocks:\n",
    "        print(finnhub_client.stock_candles(stock, 'D', utc_start, utc_end))"
   ]
  },
  {
   "cell_type": "code",
   "execution_count": 34,
   "id": "293e27e5",
   "metadata": {},
   "outputs": [
    {
     "name": "stdout",
     "output_type": "stream",
     "text": [
      "{'c': [174.31, 178.44, 175.06, 171.83, 172.14, 170.09, 165.75], 'h': [174.88, 178.49, 178.3, 173.63, 173.36, 171.78, 169.03], 'l': [171.94, 174.44, 174.415, 170.13, 169.85, 169.2, 165.5], 'o': [174.03, 174.57, 177.5, 172.36, 171.16, 171.78, 168.71], 's': 'ok', 't': [1648771200, 1649030400, 1649116800, 1649203200, 1649289600, 1649376000, 1649635200], 'v': [78751328, 76545983, 73401786, 89058782, 77594650, 76575508, 72246706]}\n",
      "{'c': [309.42, 314.97, 310.88, 299.5, 301.37, 296.97, 285.26], 'h': [310.13, 315.11, 314.865, 307, 303.65, 301.12, 292.61], 'l': [305.54, 309.71, 309.87, 296.71, 296.35, 296.28, 285], 'o': [309.37, 310.09, 313.27, 305.19, 296.66, 300.44, 291.79], 's': 'ok', 't': [1648771200, 1649030400, 1649116800, 1649203200, 1649289600, 1649376000, 1649635200], 'v': [27110529, 24335868, 23156719, 40110372, 31411155, 24361917, 34569264]}\n",
      "{'c': [2814, 2872.85, 2821.26, 2743.52, 2729.3, 2680.21, 2595.93], 'h': [2819, 2880.875, 2871.8, 2796.97, 2754.03, 2725, 2658.7836], 'l': [2775.94, 2816.49, 2818.87, 2728.3622, 2697.145, 2675.0501, 2592.35], 'o': [2800.2, 2816.49, 2867.99, 2783.23, 2732.36, 2725, 2658], 's': 'ok', 't': [1648771200, 1649030400, 1649116800, 1649203200, 1649289600, 1649376000, 1649635200], 'v': [1174001, 954245, 962778, 1178730, 972427, 821724, 1209367]}\n",
      "{'c': [3271.2, 3366.93, 3281.1, 3175.12, 3155.69, 3089.21, 3022.44], 'h': [3316.54, 3367.89, 3362.21, 3244, 3201.58, 3147.37, 3082.7299], 'l': [3246.39, 3264.11, 3265.3201, 3145.09, 3090.23, 3084.615, 3010.69], 'o': [3282.99, 3282.5, 3354.83, 3233.01, 3168, 3135, 3054.26], 's': 'ok', 't': [1648771200, 1649030400, 1649116800, 1649203200, 1649289600, 1649376000, 1649635200], 'v': [2854475, 2500398, 2686428, 3952788, 3406839, 2300083, 2605617]}\n",
      "None\n"
     ]
    }
   ],
   "source": [
    "print(temp(stocks))"
   ]
  }
 ],
 "metadata": {
  "kernelspec": {
   "display_name": "Python 3 (ipykernel)",
   "language": "python",
   "name": "python3"
  },
  "language_info": {
   "codemirror_mode": {
    "name": "ipython",
    "version": 3
   },
   "file_extension": ".py",
   "mimetype": "text/x-python",
   "name": "python",
   "nbconvert_exporter": "python",
   "pygments_lexer": "ipython3",
   "version": "3.7.11"
  }
 },
 "nbformat": 4,
 "nbformat_minor": 5
}
